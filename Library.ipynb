{
 "cells": [
  {
   "cell_type": "code",
   "execution_count": 18,
   "metadata": {},
   "outputs": [
    {
     "name": "stdout",
     "output_type": "stream",
     "text": [
      "[NbConvertApp] Converting notebook Library.ipynb to script\n",
      "[NbConvertApp] Writing 495 bytes to Library.py\n"
     ]
    }
   ],
   "source": [
    "!jupyter nbconvert  --to script Library.ipynb\n",
    "!sed -i -e 1,11d Library.py #delete these lines\n",
    "!mv Library.py App/Library.py\n",
    "!cp requirements.txt App/requirements.txt"
   ]
  },
  {
   "cell_type": "code",
   "execution_count": 8,
   "metadata": {},
   "outputs": [
    {
     "data": {
      "text/plain": [
       "'is running on notebook'"
      ]
     },
     "metadata": {},
     "output_type": "display_data"
    }
   ],
   "source": [
    "import streamlit as st\n",
    "try:\n",
    "    from IPython.display import display\n",
    "    st.write = display\n",
    "    st.write('is running on notebook')\n",
    "except:\n",
    "    st.write('is running on streamlit')"
   ]
  },
  {
   "cell_type": "code",
   "execution_count": null,
   "metadata": {},
   "outputs": [],
   "source": []
  }
 ],
 "metadata": {
  "kernelspec": {
   "display_name": ".venv",
   "language": "python",
   "name": ".venv"
  },
  "language_info": {
   "codemirror_mode": {
    "name": "ipython",
    "version": 3
   },
   "file_extension": ".py",
   "mimetype": "text/x-python",
   "name": "python",
   "nbconvert_exporter": "python",
   "pygments_lexer": "ipython3",
   "version": "3.6.8"
  }
 },
 "nbformat": 4,
 "nbformat_minor": 4
}
